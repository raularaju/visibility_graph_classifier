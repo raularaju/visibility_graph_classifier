{
 "cells": [
  {
   "cell_type": "markdown",
   "metadata": {},
   "source": [
    "# Bibliotecas Usadas"
   ]
  },
  {
   "cell_type": "code",
   "execution_count": 44,
   "metadata": {},
   "outputs": [],
   "source": [
    "import pandas as pd\n",
    "from sklearn.model_selection import train_test_split\n",
    "from sklearn.multioutput import MultiOutputClassifier\n",
    "from sklearn.ensemble import RandomForestClassifier\n",
    "from sklearn.metrics import precision_score, recall_score, f1_score, accuracy_score, hamming_loss, jaccard_score, multilabel_confusion_matrix, classification_report\n",
    "import numpy as np\n",
    "import seaborn as sns\n",
    "import matplotlib.pyplot as plt\n",
    "from sklearn.model_selection import StratifiedKFold\n",
    "from sklearn.utils import resample\n",
    "from sklearn.multiclass import OneVsRestClassifier\n",
    "from sklearn.linear_model import LogisticRegression\n",
    "from sklearn.svm import OneClassSVM\n",
    "\n",
    "import matplotlib.pyplot as plt\n",
    "from sklearn.decomposition import PCA\n",
    "from sklearn.preprocessing import StandardScaler\n",
    "from sklearn.metrics import confusion_matrix, ConfusionMatrixDisplay"
   ]
  },
  {
   "cell_type": "markdown",
   "metadata": {},
   "source": [
    "# Análise Exploratória"
   ]
  },
  {
   "cell_type": "code",
   "execution_count": 4,
   "metadata": {},
   "outputs": [
    {
     "data": {
      "text/html": [
       "<div>\n",
       "<style scoped>\n",
       "    .dataframe tbody tr th:only-of-type {\n",
       "        vertical-align: middle;\n",
       "    }\n",
       "\n",
       "    .dataframe tbody tr th {\n",
       "        vertical-align: top;\n",
       "    }\n",
       "\n",
       "    .dataframe thead th {\n",
       "        text-align: right;\n",
       "    }\n",
       "</style>\n",
       "<table border=\"1\" class=\"dataframe\">\n",
       "  <thead>\n",
       "    <tr style=\"text-align: right;\">\n",
       "      <th></th>\n",
       "      <th>exam_id</th>\n",
       "      <th>trace_file</th>\n",
       "      <th>SB</th>\n",
       "      <th>1dAVb</th>\n",
       "      <th>LBBB</th>\n",
       "      <th>ST</th>\n",
       "      <th>AF</th>\n",
       "      <th>RBBB</th>\n",
       "    </tr>\n",
       "  </thead>\n",
       "  <tbody>\n",
       "    <tr>\n",
       "      <th>0</th>\n",
       "      <td>1165429</td>\n",
       "      <td>exams_part3.hdf5</td>\n",
       "      <td>False</td>\n",
       "      <td>False</td>\n",
       "      <td>False</td>\n",
       "      <td>False</td>\n",
       "      <td>True</td>\n",
       "      <td>False</td>\n",
       "    </tr>\n",
       "    <tr>\n",
       "      <th>1</th>\n",
       "      <td>1492927</td>\n",
       "      <td>exams_part4.hdf5</td>\n",
       "      <td>True</td>\n",
       "      <td>False</td>\n",
       "      <td>False</td>\n",
       "      <td>False</td>\n",
       "      <td>False</td>\n",
       "      <td>False</td>\n",
       "    </tr>\n",
       "    <tr>\n",
       "      <th>2</th>\n",
       "      <td>808962</td>\n",
       "      <td>exams_part2.hdf5</td>\n",
       "      <td>False</td>\n",
       "      <td>False</td>\n",
       "      <td>False</td>\n",
       "      <td>False</td>\n",
       "      <td>True</td>\n",
       "      <td>False</td>\n",
       "    </tr>\n",
       "    <tr>\n",
       "      <th>3</th>\n",
       "      <td>4270131</td>\n",
       "      <td>exams_part7.hdf5</td>\n",
       "      <td>False</td>\n",
       "      <td>False</td>\n",
       "      <td>False</td>\n",
       "      <td>False</td>\n",
       "      <td>True</td>\n",
       "      <td>False</td>\n",
       "    </tr>\n",
       "    <tr>\n",
       "      <th>4</th>\n",
       "      <td>1199155</td>\n",
       "      <td>exams_part12.hdf5</td>\n",
       "      <td>False</td>\n",
       "      <td>False</td>\n",
       "      <td>False</td>\n",
       "      <td>False</td>\n",
       "      <td>False</td>\n",
       "      <td>True</td>\n",
       "    </tr>\n",
       "  </tbody>\n",
       "</table>\n",
       "</div>"
      ],
      "text/plain": [
       "   exam_id         trace_file     SB  1dAVb   LBBB     ST     AF   RBBB\n",
       "0  1165429   exams_part3.hdf5  False  False  False  False   True  False\n",
       "1  1492927   exams_part4.hdf5   True  False  False  False  False  False\n",
       "2   808962   exams_part2.hdf5  False  False  False  False   True  False\n",
       "3  4270131   exams_part7.hdf5  False  False  False  False   True  False\n",
       "4  1199155  exams_part12.hdf5  False  False  False  False  False   True"
      ]
     },
     "execution_count": 4,
     "metadata": {},
     "output_type": "execute_result"
    }
   ],
   "source": [
    "df_labels = pd.read_csv('./stratified_sample.csv')\n",
    "df_labels.head()"
   ]
  },
  {
   "cell_type": "code",
   "execution_count": 5,
   "metadata": {},
   "outputs": [
    {
     "data": {
      "text/html": [
       "<div>\n",
       "<style scoped>\n",
       "    .dataframe tbody tr th:only-of-type {\n",
       "        vertical-align: middle;\n",
       "    }\n",
       "\n",
       "    .dataframe tbody tr th {\n",
       "        vertical-align: top;\n",
       "    }\n",
       "\n",
       "    .dataframe thead th {\n",
       "        text-align: right;\n",
       "    }\n",
       "</style>\n",
       "<table border=\"1\" class=\"dataframe\">\n",
       "  <thead>\n",
       "    <tr style=\"text-align: right;\">\n",
       "      <th></th>\n",
       "      <th>exam_id</th>\n",
       "      <th>lead</th>\n",
       "      <th>num_edges</th>\n",
       "      <th>density</th>\n",
       "      <th>avg_node_degree</th>\n",
       "      <th>avg_degree_centrality</th>\n",
       "      <th>avg_closeness_centrality</th>\n",
       "      <th>avg_curr_flow_closeness_centrality</th>\n",
       "      <th>avg_pagerank</th>\n",
       "      <th>avg_clustering_coef</th>\n",
       "      <th>...</th>\n",
       "      <th>motif_5_24</th>\n",
       "      <th>motif_5_25</th>\n",
       "      <th>motif_5_26</th>\n",
       "      <th>motif_5_27</th>\n",
       "      <th>motif_5_28</th>\n",
       "      <th>motif_5_29</th>\n",
       "      <th>motif_5_30</th>\n",
       "      <th>motif_5_31</th>\n",
       "      <th>motif_5_32</th>\n",
       "      <th>motif_5_33</th>\n",
       "    </tr>\n",
       "  </thead>\n",
       "  <tbody>\n",
       "    <tr>\n",
       "      <th>0</th>\n",
       "      <td>100</td>\n",
       "      <td>lead 0</td>\n",
       "      <td>90436</td>\n",
       "      <td>0.005392</td>\n",
       "      <td>22.079102</td>\n",
       "      <td>0.005392</td>\n",
       "      <td>0.247413</td>\n",
       "      <td>0.000792</td>\n",
       "      <td>0.000244</td>\n",
       "      <td>0.638835</td>\n",
       "      <td>...</td>\n",
       "      <td>96904</td>\n",
       "      <td>18612</td>\n",
       "      <td>7</td>\n",
       "      <td>12325</td>\n",
       "      <td>10919</td>\n",
       "      <td>9379</td>\n",
       "      <td>9831</td>\n",
       "      <td>1225</td>\n",
       "      <td>1326</td>\n",
       "      <td>420</td>\n",
       "    </tr>\n",
       "    <tr>\n",
       "      <th>1</th>\n",
       "      <td>1000229</td>\n",
       "      <td>lead 0</td>\n",
       "      <td>147496</td>\n",
       "      <td>0.008794</td>\n",
       "      <td>36.009766</td>\n",
       "      <td>0.008794</td>\n",
       "      <td>0.233564</td>\n",
       "      <td>0.001092</td>\n",
       "      <td>0.000244</td>\n",
       "      <td>0.631614</td>\n",
       "      <td>...</td>\n",
       "      <td>96457</td>\n",
       "      <td>170872</td>\n",
       "      <td>112</td>\n",
       "      <td>87532</td>\n",
       "      <td>102213</td>\n",
       "      <td>103188</td>\n",
       "      <td>93286</td>\n",
       "      <td>21541</td>\n",
       "      <td>23556</td>\n",
       "      <td>2860</td>\n",
       "    </tr>\n",
       "    <tr>\n",
       "      <th>2</th>\n",
       "      <td>1000270</td>\n",
       "      <td>lead 0</td>\n",
       "      <td>192862</td>\n",
       "      <td>0.011498</td>\n",
       "      <td>47.085449</td>\n",
       "      <td>0.011498</td>\n",
       "      <td>0.267891</td>\n",
       "      <td>0.002145</td>\n",
       "      <td>0.000244</td>\n",
       "      <td>0.661990</td>\n",
       "      <td>...</td>\n",
       "      <td>96669</td>\n",
       "      <td>114137</td>\n",
       "      <td>111</td>\n",
       "      <td>134232</td>\n",
       "      <td>94500</td>\n",
       "      <td>261808</td>\n",
       "      <td>128676</td>\n",
       "      <td>62617</td>\n",
       "      <td>44203</td>\n",
       "      <td>6128</td>\n",
       "    </tr>\n",
       "    <tr>\n",
       "      <th>3</th>\n",
       "      <td>1000353</td>\n",
       "      <td>lead 0</td>\n",
       "      <td>155996</td>\n",
       "      <td>0.009300</td>\n",
       "      <td>38.084961</td>\n",
       "      <td>0.009300</td>\n",
       "      <td>0.258980</td>\n",
       "      <td>0.001100</td>\n",
       "      <td>0.000244</td>\n",
       "      <td>0.627978</td>\n",
       "      <td>...</td>\n",
       "      <td>76248</td>\n",
       "      <td>335170</td>\n",
       "      <td>73</td>\n",
       "      <td>189962</td>\n",
       "      <td>152816</td>\n",
       "      <td>107133</td>\n",
       "      <td>86994</td>\n",
       "      <td>31149</td>\n",
       "      <td>22833</td>\n",
       "      <td>3323</td>\n",
       "    </tr>\n",
       "    <tr>\n",
       "      <th>4</th>\n",
       "      <td>1000385</td>\n",
       "      <td>lead 0</td>\n",
       "      <td>246802</td>\n",
       "      <td>0.014714</td>\n",
       "      <td>60.254395</td>\n",
       "      <td>0.014714</td>\n",
       "      <td>0.276854</td>\n",
       "      <td>0.002049</td>\n",
       "      <td>0.000244</td>\n",
       "      <td>0.652849</td>\n",
       "      <td>...</td>\n",
       "      <td>420976</td>\n",
       "      <td>372281</td>\n",
       "      <td>134</td>\n",
       "      <td>267529</td>\n",
       "      <td>372664</td>\n",
       "      <td>304897</td>\n",
       "      <td>420629</td>\n",
       "      <td>149396</td>\n",
       "      <td>180611</td>\n",
       "      <td>9639</td>\n",
       "    </tr>\n",
       "  </tbody>\n",
       "</table>\n",
       "<p>5 rows × 59 columns</p>\n",
       "</div>"
      ],
      "text/plain": [
       "   exam_id    lead  num_edges   density  avg_node_degree  \\\n",
       "0      100  lead 0      90436  0.005392        22.079102   \n",
       "1  1000229  lead 0     147496  0.008794        36.009766   \n",
       "2  1000270  lead 0     192862  0.011498        47.085449   \n",
       "3  1000353  lead 0     155996  0.009300        38.084961   \n",
       "4  1000385  lead 0     246802  0.014714        60.254395   \n",
       "\n",
       "   avg_degree_centrality  avg_closeness_centrality  \\\n",
       "0               0.005392                  0.247413   \n",
       "1               0.008794                  0.233564   \n",
       "2               0.011498                  0.267891   \n",
       "3               0.009300                  0.258980   \n",
       "4               0.014714                  0.276854   \n",
       "\n",
       "   avg_curr_flow_closeness_centrality  avg_pagerank  avg_clustering_coef  ...  \\\n",
       "0                            0.000792      0.000244             0.638835  ...   \n",
       "1                            0.001092      0.000244             0.631614  ...   \n",
       "2                            0.002145      0.000244             0.661990  ...   \n",
       "3                            0.001100      0.000244             0.627978  ...   \n",
       "4                            0.002049      0.000244             0.652849  ...   \n",
       "\n",
       "   motif_5_24  motif_5_25  motif_5_26  motif_5_27  motif_5_28  motif_5_29  \\\n",
       "0       96904       18612           7       12325       10919        9379   \n",
       "1       96457      170872         112       87532      102213      103188   \n",
       "2       96669      114137         111      134232       94500      261808   \n",
       "3       76248      335170          73      189962      152816      107133   \n",
       "4      420976      372281         134      267529      372664      304897   \n",
       "\n",
       "   motif_5_30  motif_5_31  motif_5_32  motif_5_33  \n",
       "0        9831        1225        1326         420  \n",
       "1       93286       21541       23556        2860  \n",
       "2      128676       62617       44203        6128  \n",
       "3       86994       31149       22833        3323  \n",
       "4      420629      149396      180611        9639  \n",
       "\n",
       "[5 rows x 59 columns]"
      ]
     },
     "execution_count": 5,
     "metadata": {},
     "output_type": "execute_result"
    }
   ],
   "source": [
    "df_data = pd.read_csv('./features_grafos.csv')\n",
    "df_data.head()"
   ]
  },
  {
   "cell_type": "code",
   "execution_count": 6,
   "metadata": {},
   "outputs": [
    {
     "data": {
      "text/html": [
       "<div>\n",
       "<style scoped>\n",
       "    .dataframe tbody tr th:only-of-type {\n",
       "        vertical-align: middle;\n",
       "    }\n",
       "\n",
       "    .dataframe tbody tr th {\n",
       "        vertical-align: top;\n",
       "    }\n",
       "\n",
       "    .dataframe thead th {\n",
       "        text-align: right;\n",
       "    }\n",
       "</style>\n",
       "<table border=\"1\" class=\"dataframe\">\n",
       "  <thead>\n",
       "    <tr style=\"text-align: right;\">\n",
       "      <th></th>\n",
       "      <th>exam_id</th>\n",
       "      <th>num_edges</th>\n",
       "      <th>density</th>\n",
       "      <th>avg_node_degree</th>\n",
       "      <th>avg_degree_centrality</th>\n",
       "      <th>avg_closeness_centrality</th>\n",
       "      <th>avg_curr_flow_closeness_centrality</th>\n",
       "      <th>avg_pagerank</th>\n",
       "      <th>avg_clustering_coef</th>\n",
       "      <th>motif_3_0</th>\n",
       "      <th>...</th>\n",
       "      <th>motif_5_24</th>\n",
       "      <th>motif_5_25</th>\n",
       "      <th>motif_5_26</th>\n",
       "      <th>motif_5_27</th>\n",
       "      <th>motif_5_28</th>\n",
       "      <th>motif_5_29</th>\n",
       "      <th>motif_5_30</th>\n",
       "      <th>motif_5_31</th>\n",
       "      <th>motif_5_32</th>\n",
       "      <th>motif_5_33</th>\n",
       "    </tr>\n",
       "  </thead>\n",
       "  <tbody>\n",
       "    <tr>\n",
       "      <th>count</th>\n",
       "      <td>4.395000e+03</td>\n",
       "      <td>4395.000000</td>\n",
       "      <td>4395.000000</td>\n",
       "      <td>4395.000000</td>\n",
       "      <td>4395.000000</td>\n",
       "      <td>4395.000000</td>\n",
       "      <td>4395.000000</td>\n",
       "      <td>4.395000e+03</td>\n",
       "      <td>4395.000000</td>\n",
       "      <td>4395.0</td>\n",
       "      <td>...</td>\n",
       "      <td>4.395000e+03</td>\n",
       "      <td>4.395000e+03</td>\n",
       "      <td>4395.000000</td>\n",
       "      <td>4.395000e+03</td>\n",
       "      <td>4.395000e+03</td>\n",
       "      <td>4.395000e+03</td>\n",
       "      <td>4.395000e+03</td>\n",
       "      <td>4.395000e+03</td>\n",
       "      <td>4395.000000</td>\n",
       "      <td>4395.000000</td>\n",
       "    </tr>\n",
       "    <tr>\n",
       "      <th>mean</th>\n",
       "      <td>1.035330e+06</td>\n",
       "      <td>146310.026394</td>\n",
       "      <td>0.008723</td>\n",
       "      <td>35.720221</td>\n",
       "      <td>0.008723</td>\n",
       "      <td>0.252987</td>\n",
       "      <td>0.001362</td>\n",
       "      <td>2.441406e-04</td>\n",
       "      <td>0.632448</td>\n",
       "      <td>0.0</td>\n",
       "      <td>...</td>\n",
       "      <td>2.811792e+05</td>\n",
       "      <td>1.862319e+05</td>\n",
       "      <td>86.636405</td>\n",
       "      <td>1.361529e+05</td>\n",
       "      <td>1.507215e+05</td>\n",
       "      <td>1.214594e+05</td>\n",
       "      <td>1.206377e+05</td>\n",
       "      <td>4.520451e+04</td>\n",
       "      <td>36009.499886</td>\n",
       "      <td>3293.378840</td>\n",
       "    </tr>\n",
       "    <tr>\n",
       "      <th>std</th>\n",
       "      <td>3.379288e+05</td>\n",
       "      <td>49890.684535</td>\n",
       "      <td>0.002974</td>\n",
       "      <td>12.180343</td>\n",
       "      <td>0.002974</td>\n",
       "      <td>0.028766</td>\n",
       "      <td>0.000494</td>\n",
       "      <td>5.000028e-17</td>\n",
       "      <td>0.044218</td>\n",
       "      <td>0.0</td>\n",
       "      <td>...</td>\n",
       "      <td>2.873890e+05</td>\n",
       "      <td>1.622984e+05</td>\n",
       "      <td>198.545559</td>\n",
       "      <td>1.773939e+05</td>\n",
       "      <td>1.811744e+05</td>\n",
       "      <td>1.293498e+05</td>\n",
       "      <td>1.483680e+05</td>\n",
       "      <td>7.126054e+04</td>\n",
       "      <td>46906.018121</td>\n",
       "      <td>2851.095231</td>\n",
       "    </tr>\n",
       "    <tr>\n",
       "      <th>min</th>\n",
       "      <td>1.000000e+02</td>\n",
       "      <td>45140.000000</td>\n",
       "      <td>0.002691</td>\n",
       "      <td>11.020508</td>\n",
       "      <td>0.002691</td>\n",
       "      <td>0.165578</td>\n",
       "      <td>0.000241</td>\n",
       "      <td>2.441406e-04</td>\n",
       "      <td>0.256882</td>\n",
       "      <td>0.0</td>\n",
       "      <td>...</td>\n",
       "      <td>2.025000e+03</td>\n",
       "      <td>5.049000e+03</td>\n",
       "      <td>0.000000</td>\n",
       "      <td>8.520000e+02</td>\n",
       "      <td>1.354000e+03</td>\n",
       "      <td>2.726000e+03</td>\n",
       "      <td>2.475000e+03</td>\n",
       "      <td>1.590000e+02</td>\n",
       "      <td>295.000000</td>\n",
       "      <td>89.000000</td>\n",
       "    </tr>\n",
       "    <tr>\n",
       "      <th>25%</th>\n",
       "      <td>1.049923e+06</td>\n",
       "      <td>111234.000000</td>\n",
       "      <td>0.006632</td>\n",
       "      <td>27.156738</td>\n",
       "      <td>0.006632</td>\n",
       "      <td>0.233850</td>\n",
       "      <td>0.001034</td>\n",
       "      <td>2.441406e-04</td>\n",
       "      <td>0.607870</td>\n",
       "      <td>0.0</td>\n",
       "      <td>...</td>\n",
       "      <td>9.414950e+04</td>\n",
       "      <td>7.138850e+04</td>\n",
       "      <td>20.000000</td>\n",
       "      <td>4.339500e+04</td>\n",
       "      <td>4.431600e+04</td>\n",
       "      <td>4.671250e+04</td>\n",
       "      <td>3.718900e+04</td>\n",
       "      <td>9.823500e+03</td>\n",
       "      <td>9573.000000</td>\n",
       "      <td>1611.500000</td>\n",
       "    </tr>\n",
       "    <tr>\n",
       "      <th>50%</th>\n",
       "      <td>1.133758e+06</td>\n",
       "      <td>136090.000000</td>\n",
       "      <td>0.008114</td>\n",
       "      <td>33.225098</td>\n",
       "      <td>0.008114</td>\n",
       "      <td>0.252350</td>\n",
       "      <td>0.001298</td>\n",
       "      <td>2.441406e-04</td>\n",
       "      <td>0.637108</td>\n",
       "      <td>0.0</td>\n",
       "      <td>...</td>\n",
       "      <td>1.940400e+05</td>\n",
       "      <td>1.395740e+05</td>\n",
       "      <td>46.000000</td>\n",
       "      <td>8.103100e+04</td>\n",
       "      <td>9.159500e+04</td>\n",
       "      <td>8.218700e+04</td>\n",
       "      <td>7.271600e+04</td>\n",
       "      <td>2.131200e+04</td>\n",
       "      <td>19620.000000</td>\n",
       "      <td>2504.000000</td>\n",
       "    </tr>\n",
       "    <tr>\n",
       "      <th>75%</th>\n",
       "      <td>1.214330e+06</td>\n",
       "      <td>171752.000000</td>\n",
       "      <td>0.010240</td>\n",
       "      <td>41.931641</td>\n",
       "      <td>0.010240</td>\n",
       "      <td>0.271683</td>\n",
       "      <td>0.001629</td>\n",
       "      <td>2.441406e-04</td>\n",
       "      <td>0.661601</td>\n",
       "      <td>0.0</td>\n",
       "      <td>...</td>\n",
       "      <td>3.690130e+05</td>\n",
       "      <td>2.524635e+05</td>\n",
       "      <td>95.000000</td>\n",
       "      <td>1.629360e+05</td>\n",
       "      <td>1.830110e+05</td>\n",
       "      <td>1.489815e+05</td>\n",
       "      <td>1.432230e+05</td>\n",
       "      <td>5.188500e+04</td>\n",
       "      <td>43251.000000</td>\n",
       "      <td>4070.000000</td>\n",
       "    </tr>\n",
       "    <tr>\n",
       "      <th>max</th>\n",
       "      <td>1.299861e+06</td>\n",
       "      <td>638204.000000</td>\n",
       "      <td>0.038049</td>\n",
       "      <td>155.811523</td>\n",
       "      <td>0.038049</td>\n",
       "      <td>0.457899</td>\n",
       "      <td>0.005069</td>\n",
       "      <td>2.441406e-04</td>\n",
       "      <td>0.887047</td>\n",
       "      <td>0.0</td>\n",
       "      <td>...</td>\n",
       "      <td>4.332758e+06</td>\n",
       "      <td>2.078639e+06</td>\n",
       "      <td>5535.000000</td>\n",
       "      <td>4.765979e+06</td>\n",
       "      <td>2.420806e+06</td>\n",
       "      <td>2.671640e+06</td>\n",
       "      <td>2.234852e+06</td>\n",
       "      <td>1.600920e+06</td>\n",
       "      <td>748421.000000</td>\n",
       "      <td>49965.000000</td>\n",
       "    </tr>\n",
       "  </tbody>\n",
       "</table>\n",
       "<p>8 rows × 58 columns</p>\n",
       "</div>"
      ],
      "text/plain": [
       "            exam_id      num_edges      density  avg_node_degree  \\\n",
       "count  4.395000e+03    4395.000000  4395.000000      4395.000000   \n",
       "mean   1.035330e+06  146310.026394     0.008723        35.720221   \n",
       "std    3.379288e+05   49890.684535     0.002974        12.180343   \n",
       "min    1.000000e+02   45140.000000     0.002691        11.020508   \n",
       "25%    1.049923e+06  111234.000000     0.006632        27.156738   \n",
       "50%    1.133758e+06  136090.000000     0.008114        33.225098   \n",
       "75%    1.214330e+06  171752.000000     0.010240        41.931641   \n",
       "max    1.299861e+06  638204.000000     0.038049       155.811523   \n",
       "\n",
       "       avg_degree_centrality  avg_closeness_centrality  \\\n",
       "count            4395.000000               4395.000000   \n",
       "mean                0.008723                  0.252987   \n",
       "std                 0.002974                  0.028766   \n",
       "min                 0.002691                  0.165578   \n",
       "25%                 0.006632                  0.233850   \n",
       "50%                 0.008114                  0.252350   \n",
       "75%                 0.010240                  0.271683   \n",
       "max                 0.038049                  0.457899   \n",
       "\n",
       "       avg_curr_flow_closeness_centrality  avg_pagerank  avg_clustering_coef  \\\n",
       "count                         4395.000000  4.395000e+03          4395.000000   \n",
       "mean                             0.001362  2.441406e-04             0.632448   \n",
       "std                              0.000494  5.000028e-17             0.044218   \n",
       "min                              0.000241  2.441406e-04             0.256882   \n",
       "25%                              0.001034  2.441406e-04             0.607870   \n",
       "50%                              0.001298  2.441406e-04             0.637108   \n",
       "75%                              0.001629  2.441406e-04             0.661601   \n",
       "max                              0.005069  2.441406e-04             0.887047   \n",
       "\n",
       "       motif_3_0  ...    motif_5_24    motif_5_25   motif_5_26    motif_5_27  \\\n",
       "count     4395.0  ...  4.395000e+03  4.395000e+03  4395.000000  4.395000e+03   \n",
       "mean         0.0  ...  2.811792e+05  1.862319e+05    86.636405  1.361529e+05   \n",
       "std          0.0  ...  2.873890e+05  1.622984e+05   198.545559  1.773939e+05   \n",
       "min          0.0  ...  2.025000e+03  5.049000e+03     0.000000  8.520000e+02   \n",
       "25%          0.0  ...  9.414950e+04  7.138850e+04    20.000000  4.339500e+04   \n",
       "50%          0.0  ...  1.940400e+05  1.395740e+05    46.000000  8.103100e+04   \n",
       "75%          0.0  ...  3.690130e+05  2.524635e+05    95.000000  1.629360e+05   \n",
       "max          0.0  ...  4.332758e+06  2.078639e+06  5535.000000  4.765979e+06   \n",
       "\n",
       "         motif_5_28    motif_5_29    motif_5_30    motif_5_31     motif_5_32  \\\n",
       "count  4.395000e+03  4.395000e+03  4.395000e+03  4.395000e+03    4395.000000   \n",
       "mean   1.507215e+05  1.214594e+05  1.206377e+05  4.520451e+04   36009.499886   \n",
       "std    1.811744e+05  1.293498e+05  1.483680e+05  7.126054e+04   46906.018121   \n",
       "min    1.354000e+03  2.726000e+03  2.475000e+03  1.590000e+02     295.000000   \n",
       "25%    4.431600e+04  4.671250e+04  3.718900e+04  9.823500e+03    9573.000000   \n",
       "50%    9.159500e+04  8.218700e+04  7.271600e+04  2.131200e+04   19620.000000   \n",
       "75%    1.830110e+05  1.489815e+05  1.432230e+05  5.188500e+04   43251.000000   \n",
       "max    2.420806e+06  2.671640e+06  2.234852e+06  1.600920e+06  748421.000000   \n",
       "\n",
       "         motif_5_33  \n",
       "count   4395.000000  \n",
       "mean    3293.378840  \n",
       "std     2851.095231  \n",
       "min       89.000000  \n",
       "25%     1611.500000  \n",
       "50%     2504.000000  \n",
       "75%     4070.000000  \n",
       "max    49965.000000  \n",
       "\n",
       "[8 rows x 58 columns]"
      ]
     },
     "execution_count": 6,
     "metadata": {},
     "output_type": "execute_result"
    }
   ],
   "source": [
    "df_data.describe()"
   ]
  },
  {
   "cell_type": "code",
   "execution_count": 7,
   "metadata": {},
   "outputs": [
    {
     "data": {
      "text/html": [
       "<div>\n",
       "<style scoped>\n",
       "    .dataframe tbody tr th:only-of-type {\n",
       "        vertical-align: middle;\n",
       "    }\n",
       "\n",
       "    .dataframe tbody tr th {\n",
       "        vertical-align: top;\n",
       "    }\n",
       "\n",
       "    .dataframe thead th {\n",
       "        text-align: right;\n",
       "    }\n",
       "</style>\n",
       "<table border=\"1\" class=\"dataframe\">\n",
       "  <thead>\n",
       "    <tr style=\"text-align: right;\">\n",
       "      <th></th>\n",
       "      <th>exam_id</th>\n",
       "      <th>lead</th>\n",
       "      <th>num_edges</th>\n",
       "      <th>density</th>\n",
       "      <th>avg_node_degree</th>\n",
       "      <th>avg_degree_centrality</th>\n",
       "      <th>avg_closeness_centrality</th>\n",
       "      <th>avg_curr_flow_closeness_centrality</th>\n",
       "      <th>avg_pagerank</th>\n",
       "      <th>avg_clustering_coef</th>\n",
       "      <th>...</th>\n",
       "      <th>motif_5_31</th>\n",
       "      <th>motif_5_32</th>\n",
       "      <th>motif_5_33</th>\n",
       "      <th>trace_file</th>\n",
       "      <th>SB</th>\n",
       "      <th>1dAVb</th>\n",
       "      <th>LBBB</th>\n",
       "      <th>ST</th>\n",
       "      <th>AF</th>\n",
       "      <th>RBBB</th>\n",
       "    </tr>\n",
       "  </thead>\n",
       "  <tbody>\n",
       "    <tr>\n",
       "      <th>0</th>\n",
       "      <td>100</td>\n",
       "      <td>lead 0</td>\n",
       "      <td>90436</td>\n",
       "      <td>0.005392</td>\n",
       "      <td>22.079102</td>\n",
       "      <td>0.005392</td>\n",
       "      <td>0.247413</td>\n",
       "      <td>0.000792</td>\n",
       "      <td>0.000244</td>\n",
       "      <td>0.638835</td>\n",
       "      <td>...</td>\n",
       "      <td>1225</td>\n",
       "      <td>1326</td>\n",
       "      <td>420</td>\n",
       "      <td>exams_part9.hdf5</td>\n",
       "      <td>True</td>\n",
       "      <td>False</td>\n",
       "      <td>False</td>\n",
       "      <td>False</td>\n",
       "      <td>False</td>\n",
       "      <td>True</td>\n",
       "    </tr>\n",
       "    <tr>\n",
       "      <th>1</th>\n",
       "      <td>1000229</td>\n",
       "      <td>lead 0</td>\n",
       "      <td>147496</td>\n",
       "      <td>0.008794</td>\n",
       "      <td>36.009766</td>\n",
       "      <td>0.008794</td>\n",
       "      <td>0.233564</td>\n",
       "      <td>0.001092</td>\n",
       "      <td>0.000244</td>\n",
       "      <td>0.631614</td>\n",
       "      <td>...</td>\n",
       "      <td>21541</td>\n",
       "      <td>23556</td>\n",
       "      <td>2860</td>\n",
       "      <td>exams_part3.hdf5</td>\n",
       "      <td>False</td>\n",
       "      <td>True</td>\n",
       "      <td>True</td>\n",
       "      <td>False</td>\n",
       "      <td>False</td>\n",
       "      <td>False</td>\n",
       "    </tr>\n",
       "    <tr>\n",
       "      <th>2</th>\n",
       "      <td>1000270</td>\n",
       "      <td>lead 0</td>\n",
       "      <td>192862</td>\n",
       "      <td>0.011498</td>\n",
       "      <td>47.085449</td>\n",
       "      <td>0.011498</td>\n",
       "      <td>0.267891</td>\n",
       "      <td>0.002145</td>\n",
       "      <td>0.000244</td>\n",
       "      <td>0.661990</td>\n",
       "      <td>...</td>\n",
       "      <td>62617</td>\n",
       "      <td>44203</td>\n",
       "      <td>6128</td>\n",
       "      <td>exams_part14.hdf5</td>\n",
       "      <td>False</td>\n",
       "      <td>False</td>\n",
       "      <td>False</td>\n",
       "      <td>True</td>\n",
       "      <td>False</td>\n",
       "      <td>False</td>\n",
       "    </tr>\n",
       "    <tr>\n",
       "      <th>3</th>\n",
       "      <td>1000353</td>\n",
       "      <td>lead 0</td>\n",
       "      <td>155996</td>\n",
       "      <td>0.009300</td>\n",
       "      <td>38.084961</td>\n",
       "      <td>0.009300</td>\n",
       "      <td>0.258980</td>\n",
       "      <td>0.001100</td>\n",
       "      <td>0.000244</td>\n",
       "      <td>0.627978</td>\n",
       "      <td>...</td>\n",
       "      <td>31149</td>\n",
       "      <td>22833</td>\n",
       "      <td>3323</td>\n",
       "      <td>exams_part0.hdf5</td>\n",
       "      <td>True</td>\n",
       "      <td>False</td>\n",
       "      <td>False</td>\n",
       "      <td>False</td>\n",
       "      <td>False</td>\n",
       "      <td>False</td>\n",
       "    </tr>\n",
       "    <tr>\n",
       "      <th>4</th>\n",
       "      <td>1000385</td>\n",
       "      <td>lead 0</td>\n",
       "      <td>246802</td>\n",
       "      <td>0.014714</td>\n",
       "      <td>60.254395</td>\n",
       "      <td>0.014714</td>\n",
       "      <td>0.276854</td>\n",
       "      <td>0.002049</td>\n",
       "      <td>0.000244</td>\n",
       "      <td>0.652849</td>\n",
       "      <td>...</td>\n",
       "      <td>149396</td>\n",
       "      <td>180611</td>\n",
       "      <td>9639</td>\n",
       "      <td>exams_part6.hdf5</td>\n",
       "      <td>False</td>\n",
       "      <td>False</td>\n",
       "      <td>False</td>\n",
       "      <td>False</td>\n",
       "      <td>False</td>\n",
       "      <td>False</td>\n",
       "    </tr>\n",
       "  </tbody>\n",
       "</table>\n",
       "<p>5 rows × 66 columns</p>\n",
       "</div>"
      ],
      "text/plain": [
       "   exam_id    lead  num_edges   density  avg_node_degree  \\\n",
       "0      100  lead 0      90436  0.005392        22.079102   \n",
       "1  1000229  lead 0     147496  0.008794        36.009766   \n",
       "2  1000270  lead 0     192862  0.011498        47.085449   \n",
       "3  1000353  lead 0     155996  0.009300        38.084961   \n",
       "4  1000385  lead 0     246802  0.014714        60.254395   \n",
       "\n",
       "   avg_degree_centrality  avg_closeness_centrality  \\\n",
       "0               0.005392                  0.247413   \n",
       "1               0.008794                  0.233564   \n",
       "2               0.011498                  0.267891   \n",
       "3               0.009300                  0.258980   \n",
       "4               0.014714                  0.276854   \n",
       "\n",
       "   avg_curr_flow_closeness_centrality  avg_pagerank  avg_clustering_coef  ...  \\\n",
       "0                            0.000792      0.000244             0.638835  ...   \n",
       "1                            0.001092      0.000244             0.631614  ...   \n",
       "2                            0.002145      0.000244             0.661990  ...   \n",
       "3                            0.001100      0.000244             0.627978  ...   \n",
       "4                            0.002049      0.000244             0.652849  ...   \n",
       "\n",
       "   motif_5_31  motif_5_32  motif_5_33         trace_file     SB  1dAVb   LBBB  \\\n",
       "0        1225        1326         420   exams_part9.hdf5   True  False  False   \n",
       "1       21541       23556        2860   exams_part3.hdf5  False   True   True   \n",
       "2       62617       44203        6128  exams_part14.hdf5  False  False  False   \n",
       "3       31149       22833        3323   exams_part0.hdf5   True  False  False   \n",
       "4      149396      180611        9639   exams_part6.hdf5  False  False  False   \n",
       "\n",
       "      ST     AF   RBBB  \n",
       "0  False  False   True  \n",
       "1  False  False  False  \n",
       "2   True  False  False  \n",
       "3  False  False  False  \n",
       "4  False  False  False  \n",
       "\n",
       "[5 rows x 66 columns]"
      ]
     },
     "execution_count": 7,
     "metadata": {},
     "output_type": "execute_result"
    }
   ],
   "source": [
    "merged_df = pd.merge(df_data, df_labels, on='exam_id')\n",
    "merged_df.head()"
   ]
  },
  {
   "cell_type": "code",
   "execution_count": 8,
   "metadata": {},
   "outputs": [],
   "source": [
    "X = merged_df.drop(columns=['exam_id', 'lead', 'trace_file', 'SB', '1dAVb', 'LBBB', 'ST', 'AF', 'RBBB'])\n",
    "y = merged_df[ ['SB', '1dAVb', 'LBBB', 'ST', 'AF', 'RBBB']]"
   ]
  },
  {
   "cell_type": "code",
   "execution_count": 9,
   "metadata": {},
   "outputs": [
    {
     "data": {
      "text/html": [
       "<div>\n",
       "<style scoped>\n",
       "    .dataframe tbody tr th:only-of-type {\n",
       "        vertical-align: middle;\n",
       "    }\n",
       "\n",
       "    .dataframe tbody tr th {\n",
       "        vertical-align: top;\n",
       "    }\n",
       "\n",
       "    .dataframe thead th {\n",
       "        text-align: right;\n",
       "    }\n",
       "</style>\n",
       "<table border=\"1\" class=\"dataframe\">\n",
       "  <thead>\n",
       "    <tr style=\"text-align: right;\">\n",
       "      <th></th>\n",
       "      <th>num_edges</th>\n",
       "      <th>density</th>\n",
       "      <th>avg_node_degree</th>\n",
       "      <th>avg_degree_centrality</th>\n",
       "      <th>avg_closeness_centrality</th>\n",
       "      <th>avg_curr_flow_closeness_centrality</th>\n",
       "      <th>avg_pagerank</th>\n",
       "      <th>avg_clustering_coef</th>\n",
       "      <th>motif_3_0</th>\n",
       "      <th>motif_3_1</th>\n",
       "      <th>...</th>\n",
       "      <th>motif_5_24</th>\n",
       "      <th>motif_5_25</th>\n",
       "      <th>motif_5_26</th>\n",
       "      <th>motif_5_27</th>\n",
       "      <th>motif_5_28</th>\n",
       "      <th>motif_5_29</th>\n",
       "      <th>motif_5_30</th>\n",
       "      <th>motif_5_31</th>\n",
       "      <th>motif_5_32</th>\n",
       "      <th>motif_5_33</th>\n",
       "    </tr>\n",
       "  </thead>\n",
       "  <tbody>\n",
       "    <tr>\n",
       "      <th>0</th>\n",
       "      <td>90436</td>\n",
       "      <td>0.005392</td>\n",
       "      <td>22.079102</td>\n",
       "      <td>0.005392</td>\n",
       "      <td>0.247413</td>\n",
       "      <td>0.000792</td>\n",
       "      <td>0.000244</td>\n",
       "      <td>0.638835</td>\n",
       "      <td>0</td>\n",
       "      <td>0</td>\n",
       "      <td>...</td>\n",
       "      <td>96904</td>\n",
       "      <td>18612</td>\n",
       "      <td>7</td>\n",
       "      <td>12325</td>\n",
       "      <td>10919</td>\n",
       "      <td>9379</td>\n",
       "      <td>9831</td>\n",
       "      <td>1225</td>\n",
       "      <td>1326</td>\n",
       "      <td>420</td>\n",
       "    </tr>\n",
       "    <tr>\n",
       "      <th>1</th>\n",
       "      <td>147496</td>\n",
       "      <td>0.008794</td>\n",
       "      <td>36.009766</td>\n",
       "      <td>0.008794</td>\n",
       "      <td>0.233564</td>\n",
       "      <td>0.001092</td>\n",
       "      <td>0.000244</td>\n",
       "      <td>0.631614</td>\n",
       "      <td>0</td>\n",
       "      <td>0</td>\n",
       "      <td>...</td>\n",
       "      <td>96457</td>\n",
       "      <td>170872</td>\n",
       "      <td>112</td>\n",
       "      <td>87532</td>\n",
       "      <td>102213</td>\n",
       "      <td>103188</td>\n",
       "      <td>93286</td>\n",
       "      <td>21541</td>\n",
       "      <td>23556</td>\n",
       "      <td>2860</td>\n",
       "    </tr>\n",
       "    <tr>\n",
       "      <th>2</th>\n",
       "      <td>192862</td>\n",
       "      <td>0.011498</td>\n",
       "      <td>47.085449</td>\n",
       "      <td>0.011498</td>\n",
       "      <td>0.267891</td>\n",
       "      <td>0.002145</td>\n",
       "      <td>0.000244</td>\n",
       "      <td>0.661990</td>\n",
       "      <td>0</td>\n",
       "      <td>0</td>\n",
       "      <td>...</td>\n",
       "      <td>96669</td>\n",
       "      <td>114137</td>\n",
       "      <td>111</td>\n",
       "      <td>134232</td>\n",
       "      <td>94500</td>\n",
       "      <td>261808</td>\n",
       "      <td>128676</td>\n",
       "      <td>62617</td>\n",
       "      <td>44203</td>\n",
       "      <td>6128</td>\n",
       "    </tr>\n",
       "    <tr>\n",
       "      <th>3</th>\n",
       "      <td>155996</td>\n",
       "      <td>0.009300</td>\n",
       "      <td>38.084961</td>\n",
       "      <td>0.009300</td>\n",
       "      <td>0.258980</td>\n",
       "      <td>0.001100</td>\n",
       "      <td>0.000244</td>\n",
       "      <td>0.627978</td>\n",
       "      <td>0</td>\n",
       "      <td>0</td>\n",
       "      <td>...</td>\n",
       "      <td>76248</td>\n",
       "      <td>335170</td>\n",
       "      <td>73</td>\n",
       "      <td>189962</td>\n",
       "      <td>152816</td>\n",
       "      <td>107133</td>\n",
       "      <td>86994</td>\n",
       "      <td>31149</td>\n",
       "      <td>22833</td>\n",
       "      <td>3323</td>\n",
       "    </tr>\n",
       "    <tr>\n",
       "      <th>4</th>\n",
       "      <td>246802</td>\n",
       "      <td>0.014714</td>\n",
       "      <td>60.254395</td>\n",
       "      <td>0.014714</td>\n",
       "      <td>0.276854</td>\n",
       "      <td>0.002049</td>\n",
       "      <td>0.000244</td>\n",
       "      <td>0.652849</td>\n",
       "      <td>0</td>\n",
       "      <td>0</td>\n",
       "      <td>...</td>\n",
       "      <td>420976</td>\n",
       "      <td>372281</td>\n",
       "      <td>134</td>\n",
       "      <td>267529</td>\n",
       "      <td>372664</td>\n",
       "      <td>304897</td>\n",
       "      <td>420629</td>\n",
       "      <td>149396</td>\n",
       "      <td>180611</td>\n",
       "      <td>9639</td>\n",
       "    </tr>\n",
       "  </tbody>\n",
       "</table>\n",
       "<p>5 rows × 57 columns</p>\n",
       "</div>"
      ],
      "text/plain": [
       "   num_edges   density  avg_node_degree  avg_degree_centrality  \\\n",
       "0      90436  0.005392        22.079102               0.005392   \n",
       "1     147496  0.008794        36.009766               0.008794   \n",
       "2     192862  0.011498        47.085449               0.011498   \n",
       "3     155996  0.009300        38.084961               0.009300   \n",
       "4     246802  0.014714        60.254395               0.014714   \n",
       "\n",
       "   avg_closeness_centrality  avg_curr_flow_closeness_centrality  avg_pagerank  \\\n",
       "0                  0.247413                            0.000792      0.000244   \n",
       "1                  0.233564                            0.001092      0.000244   \n",
       "2                  0.267891                            0.002145      0.000244   \n",
       "3                  0.258980                            0.001100      0.000244   \n",
       "4                  0.276854                            0.002049      0.000244   \n",
       "\n",
       "   avg_clustering_coef  motif_3_0  motif_3_1  ...  motif_5_24  motif_5_25  \\\n",
       "0             0.638835          0          0  ...       96904       18612   \n",
       "1             0.631614          0          0  ...       96457      170872   \n",
       "2             0.661990          0          0  ...       96669      114137   \n",
       "3             0.627978          0          0  ...       76248      335170   \n",
       "4             0.652849          0          0  ...      420976      372281   \n",
       "\n",
       "   motif_5_26  motif_5_27  motif_5_28  motif_5_29  motif_5_30  motif_5_31  \\\n",
       "0           7       12325       10919        9379        9831        1225   \n",
       "1         112       87532      102213      103188       93286       21541   \n",
       "2         111      134232       94500      261808      128676       62617   \n",
       "3          73      189962      152816      107133       86994       31149   \n",
       "4         134      267529      372664      304897      420629      149396   \n",
       "\n",
       "   motif_5_32  motif_5_33  \n",
       "0        1326         420  \n",
       "1       23556        2860  \n",
       "2       44203        6128  \n",
       "3       22833        3323  \n",
       "4      180611        9639  \n",
       "\n",
       "[5 rows x 57 columns]"
      ]
     },
     "execution_count": 9,
     "metadata": {},
     "output_type": "execute_result"
    }
   ],
   "source": [
    "X.head()"
   ]
  },
  {
   "cell_type": "code",
   "execution_count": 10,
   "metadata": {},
   "outputs": [
    {
     "data": {
      "text/plain": [
       "Index(['num_edges', 'density', 'avg_node_degree', 'avg_degree_centrality',\n",
       "       'avg_closeness_centrality', 'avg_curr_flow_closeness_centrality',\n",
       "       'avg_pagerank', 'avg_clustering_coef', 'motif_3_0', 'motif_3_1',\n",
       "       'motif_3_2', 'motif_3_3', 'motif_4_0', 'motif_4_1', 'motif_4_2',\n",
       "       'motif_4_3', 'motif_4_4', 'motif_4_5', 'motif_4_6', 'motif_4_7',\n",
       "       'motif_4_8', 'motif_4_9', 'motif_4_10', 'motif_5_0', 'motif_5_1',\n",
       "       'motif_5_2', 'motif_5_3', 'motif_5_4', 'motif_5_5', 'motif_5_6',\n",
       "       'motif_5_7', 'motif_5_8', 'motif_5_9', 'motif_5_10', 'motif_5_11',\n",
       "       'motif_5_12', 'motif_5_13', 'motif_5_14', 'motif_5_15', 'motif_5_16',\n",
       "       'motif_5_17', 'motif_5_18', 'motif_5_19', 'motif_5_20', 'motif_5_21',\n",
       "       'motif_5_22', 'motif_5_23', 'motif_5_24', 'motif_5_25', 'motif_5_26',\n",
       "       'motif_5_27', 'motif_5_28', 'motif_5_29', 'motif_5_30', 'motif_5_31',\n",
       "       'motif_5_32', 'motif_5_33'],\n",
       "      dtype='object')"
      ]
     },
     "execution_count": 10,
     "metadata": {},
     "output_type": "execute_result"
    }
   ],
   "source": [
    "X.columns"
   ]
  },
  {
   "cell_type": "code",
   "execution_count": 11,
   "metadata": {},
   "outputs": [
    {
     "data": {
      "text/html": [
       "<div>\n",
       "<style scoped>\n",
       "    .dataframe tbody tr th:only-of-type {\n",
       "        vertical-align: middle;\n",
       "    }\n",
       "\n",
       "    .dataframe tbody tr th {\n",
       "        vertical-align: top;\n",
       "    }\n",
       "\n",
       "    .dataframe thead th {\n",
       "        text-align: right;\n",
       "    }\n",
       "</style>\n",
       "<table border=\"1\" class=\"dataframe\">\n",
       "  <thead>\n",
       "    <tr style=\"text-align: right;\">\n",
       "      <th></th>\n",
       "      <th>SB</th>\n",
       "      <th>1dAVb</th>\n",
       "      <th>LBBB</th>\n",
       "      <th>ST</th>\n",
       "      <th>AF</th>\n",
       "      <th>RBBB</th>\n",
       "    </tr>\n",
       "  </thead>\n",
       "  <tbody>\n",
       "    <tr>\n",
       "      <th>0</th>\n",
       "      <td>True</td>\n",
       "      <td>False</td>\n",
       "      <td>False</td>\n",
       "      <td>False</td>\n",
       "      <td>False</td>\n",
       "      <td>True</td>\n",
       "    </tr>\n",
       "    <tr>\n",
       "      <th>1</th>\n",
       "      <td>False</td>\n",
       "      <td>True</td>\n",
       "      <td>True</td>\n",
       "      <td>False</td>\n",
       "      <td>False</td>\n",
       "      <td>False</td>\n",
       "    </tr>\n",
       "    <tr>\n",
       "      <th>2</th>\n",
       "      <td>False</td>\n",
       "      <td>False</td>\n",
       "      <td>False</td>\n",
       "      <td>True</td>\n",
       "      <td>False</td>\n",
       "      <td>False</td>\n",
       "    </tr>\n",
       "    <tr>\n",
       "      <th>3</th>\n",
       "      <td>True</td>\n",
       "      <td>False</td>\n",
       "      <td>False</td>\n",
       "      <td>False</td>\n",
       "      <td>False</td>\n",
       "      <td>False</td>\n",
       "    </tr>\n",
       "    <tr>\n",
       "      <th>4</th>\n",
       "      <td>False</td>\n",
       "      <td>False</td>\n",
       "      <td>False</td>\n",
       "      <td>False</td>\n",
       "      <td>False</td>\n",
       "      <td>False</td>\n",
       "    </tr>\n",
       "  </tbody>\n",
       "</table>\n",
       "</div>"
      ],
      "text/plain": [
       "      SB  1dAVb   LBBB     ST     AF   RBBB\n",
       "0   True  False  False  False  False   True\n",
       "1  False   True   True  False  False  False\n",
       "2  False  False  False   True  False  False\n",
       "3   True  False  False  False  False  False\n",
       "4  False  False  False  False  False  False"
      ]
     },
     "execution_count": 11,
     "metadata": {},
     "output_type": "execute_result"
    }
   ],
   "source": [
    "y.head()"
   ]
  },
  {
   "cell_type": "code",
   "execution_count": 12,
   "metadata": {},
   "outputs": [
    {
     "name": "stdout",
     "output_type": "stream",
     "text": [
      "SB: 691\n",
      "1dAVb: 658\n",
      "LBBB: 736\n",
      "ST: 711\n",
      "AF: 651\n",
      "RBBB: 682\n",
      "saudavel : 752\n"
     ]
    }
   ],
   "source": [
    "for c in y.columns:\n",
    "    print(f\"{c}: {y[c].sum()}\")\n",
    "num_rows_all_false = (y.sum(axis=1) == 0).sum()\n",
    "print(f\"saudavel : {num_rows_all_false}\")"
   ]
  },
  {
   "cell_type": "markdown",
   "metadata": {},
   "source": [
    "# Modelagem"
   ]
  },
  {
   "cell_type": "markdown",
   "metadata": {},
   "source": [
    "## Multiclass Classification"
   ]
  },
  {
   "cell_type": "code",
   "execution_count": 13,
   "metadata": {},
   "outputs": [],
   "source": [
    "X_train, X_test, y_train, y_test = train_test_split(X, y, test_size=0.2, random_state=42)"
   ]
  },
  {
   "cell_type": "code",
   "execution_count": 14,
   "metadata": {},
   "outputs": [],
   "source": [
    "classifier = MultiOutputClassifier(RandomForestClassifier())"
   ]
  },
  {
   "cell_type": "code",
   "execution_count": 15,
   "metadata": {},
   "outputs": [
    {
     "data": {
      "text/html": [
       "<style>#sk-container-id-1 {color: black;}#sk-container-id-1 pre{padding: 0;}#sk-container-id-1 div.sk-toggleable {background-color: white;}#sk-container-id-1 label.sk-toggleable__label {cursor: pointer;display: block;width: 100%;margin-bottom: 0;padding: 0.3em;box-sizing: border-box;text-align: center;}#sk-container-id-1 label.sk-toggleable__label-arrow:before {content: \"▸\";float: left;margin-right: 0.25em;color: #696969;}#sk-container-id-1 label.sk-toggleable__label-arrow:hover:before {color: black;}#sk-container-id-1 div.sk-estimator:hover label.sk-toggleable__label-arrow:before {color: black;}#sk-container-id-1 div.sk-toggleable__content {max-height: 0;max-width: 0;overflow: hidden;text-align: left;background-color: #f0f8ff;}#sk-container-id-1 div.sk-toggleable__content pre {margin: 0.2em;color: black;border-radius: 0.25em;background-color: #f0f8ff;}#sk-container-id-1 input.sk-toggleable__control:checked~div.sk-toggleable__content {max-height: 200px;max-width: 100%;overflow: auto;}#sk-container-id-1 input.sk-toggleable__control:checked~label.sk-toggleable__label-arrow:before {content: \"▾\";}#sk-container-id-1 div.sk-estimator input.sk-toggleable__control:checked~label.sk-toggleable__label {background-color: #d4ebff;}#sk-container-id-1 div.sk-label input.sk-toggleable__control:checked~label.sk-toggleable__label {background-color: #d4ebff;}#sk-container-id-1 input.sk-hidden--visually {border: 0;clip: rect(1px 1px 1px 1px);clip: rect(1px, 1px, 1px, 1px);height: 1px;margin: -1px;overflow: hidden;padding: 0;position: absolute;width: 1px;}#sk-container-id-1 div.sk-estimator {font-family: monospace;background-color: #f0f8ff;border: 1px dotted black;border-radius: 0.25em;box-sizing: border-box;margin-bottom: 0.5em;}#sk-container-id-1 div.sk-estimator:hover {background-color: #d4ebff;}#sk-container-id-1 div.sk-parallel-item::after {content: \"\";width: 100%;border-bottom: 1px solid gray;flex-grow: 1;}#sk-container-id-1 div.sk-label:hover label.sk-toggleable__label {background-color: #d4ebff;}#sk-container-id-1 div.sk-serial::before {content: \"\";position: absolute;border-left: 1px solid gray;box-sizing: border-box;top: 0;bottom: 0;left: 50%;z-index: 0;}#sk-container-id-1 div.sk-serial {display: flex;flex-direction: column;align-items: center;background-color: white;padding-right: 0.2em;padding-left: 0.2em;position: relative;}#sk-container-id-1 div.sk-item {position: relative;z-index: 1;}#sk-container-id-1 div.sk-parallel {display: flex;align-items: stretch;justify-content: center;background-color: white;position: relative;}#sk-container-id-1 div.sk-item::before, #sk-container-id-1 div.sk-parallel-item::before {content: \"\";position: absolute;border-left: 1px solid gray;box-sizing: border-box;top: 0;bottom: 0;left: 50%;z-index: -1;}#sk-container-id-1 div.sk-parallel-item {display: flex;flex-direction: column;z-index: 1;position: relative;background-color: white;}#sk-container-id-1 div.sk-parallel-item:first-child::after {align-self: flex-end;width: 50%;}#sk-container-id-1 div.sk-parallel-item:last-child::after {align-self: flex-start;width: 50%;}#sk-container-id-1 div.sk-parallel-item:only-child::after {width: 0;}#sk-container-id-1 div.sk-dashed-wrapped {border: 1px dashed gray;margin: 0 0.4em 0.5em 0.4em;box-sizing: border-box;padding-bottom: 0.4em;background-color: white;}#sk-container-id-1 div.sk-label label {font-family: monospace;font-weight: bold;display: inline-block;line-height: 1.2em;}#sk-container-id-1 div.sk-label-container {text-align: center;}#sk-container-id-1 div.sk-container {/* jupyter's `normalize.less` sets `[hidden] { display: none; }` but bootstrap.min.css set `[hidden] { display: none !important; }` so we also need the `!important` here to be able to override the default hidden behavior on the sphinx rendered scikit-learn.org. See: https://github.com/scikit-learn/scikit-learn/issues/21755 */display: inline-block !important;position: relative;}#sk-container-id-1 div.sk-text-repr-fallback {display: none;}</style><div id=\"sk-container-id-1\" class=\"sk-top-container\"><div class=\"sk-text-repr-fallback\"><pre>MultiOutputClassifier(estimator=RandomForestClassifier())</pre><b>In a Jupyter environment, please rerun this cell to show the HTML representation or trust the notebook. <br />On GitHub, the HTML representation is unable to render, please try loading this page with nbviewer.org.</b></div><div class=\"sk-container\" hidden><div class=\"sk-item sk-dashed-wrapped\"><div class=\"sk-label-container\"><div class=\"sk-label sk-toggleable\"><input class=\"sk-toggleable__control sk-hidden--visually\" id=\"sk-estimator-id-1\" type=\"checkbox\" ><label for=\"sk-estimator-id-1\" class=\"sk-toggleable__label sk-toggleable__label-arrow\">MultiOutputClassifier</label><div class=\"sk-toggleable__content\"><pre>MultiOutputClassifier(estimator=RandomForestClassifier())</pre></div></div></div><div class=\"sk-parallel\"><div class=\"sk-parallel-item\"><div class=\"sk-item\"><div class=\"sk-label-container\"><div class=\"sk-label sk-toggleable\"><input class=\"sk-toggleable__control sk-hidden--visually\" id=\"sk-estimator-id-2\" type=\"checkbox\" ><label for=\"sk-estimator-id-2\" class=\"sk-toggleable__label sk-toggleable__label-arrow\">estimator: RandomForestClassifier</label><div class=\"sk-toggleable__content\"><pre>RandomForestClassifier()</pre></div></div></div><div class=\"sk-serial\"><div class=\"sk-item\"><div class=\"sk-estimator sk-toggleable\"><input class=\"sk-toggleable__control sk-hidden--visually\" id=\"sk-estimator-id-3\" type=\"checkbox\" ><label for=\"sk-estimator-id-3\" class=\"sk-toggleable__label sk-toggleable__label-arrow\">RandomForestClassifier</label><div class=\"sk-toggleable__content\"><pre>RandomForestClassifier()</pre></div></div></div></div></div></div></div></div></div></div>"
      ],
      "text/plain": [
       "MultiOutputClassifier(estimator=RandomForestClassifier())"
      ]
     },
     "execution_count": 15,
     "metadata": {},
     "output_type": "execute_result"
    }
   ],
   "source": [
    "classifier.fit(X_train, y_train)\n"
   ]
  },
  {
   "cell_type": "code",
   "execution_count": 16,
   "metadata": {},
   "outputs": [],
   "source": [
    "y_pred = classifier.predict(X_test)"
   ]
  },
  {
   "cell_type": "markdown",
   "metadata": {},
   "source": [
    "# Validação"
   ]
  },
  {
   "cell_type": "code",
   "execution_count": 17,
   "metadata": {},
   "outputs": [],
   "source": [
    "def print_metrics(y_test, y_pred):\n",
    "    precision_micro = precision_score(y_test, y_pred, average='micro')\n",
    "    precision_macro = precision_score(y_test, y_pred, average='macro')\n",
    "    recall_micro = recall_score(y_test, y_pred, average='micro')\n",
    "    recall_macro = recall_score(y_test, y_pred, average='macro')\n",
    "    f1_micro = f1_score(y_test, y_pred, average='micro')\n",
    "    f1_macro = f1_score(y_test, y_pred, average='macro')\n",
    "    hamming_loss_value = hamming_loss(y_test, y_pred)\n",
    "    jaccard_similarity = jaccard_score(y_test, y_pred, average='samples')\n",
    "    print(f\"precision micro: {precision_micro}\")\n",
    "    print(f\"recall micro: {recall_micro}\")\n",
    "    print(f\"f1 micro: {f1_micro}\")\n",
    "    print(f\"precision macro: {precision_macro}\")\n",
    "    print(f\"recall macro: {recall_macro}\")\n",
    "    print(f\"f1 macro = {f1_macro}\")\n",
    "    print(f\"hamming loss_value: {hamming_loss_value}\")\n",
    "    print(f\"jaccard similary: {jaccard_similarity}\")"
   ]
  },
  {
   "cell_type": "code",
   "execution_count": 18,
   "metadata": {},
   "outputs": [
    {
     "name": "stdout",
     "output_type": "stream",
     "text": [
      "precision micro: 0.7767584097859327\n",
      "recall micro: 0.3175\n",
      "f1 micro: 0.45075421472937\n",
      "precision macro: 0.6242938552607542\n",
      "recall macro: 0.30246748385434524\n",
      "f1 macro = 0.3731438237180538\n",
      "hamming loss_value: 0.1173682214637846\n",
      "jaccard similary: 0.2697193780811528\n"
     ]
    },
    {
     "name": "stderr",
     "output_type": "stream",
     "text": [
      "/home/araju/anaconda3/envs/vg_classifier/lib/python3.11/site-packages/sklearn/metrics/_classification.py:1469: UndefinedMetricWarning: Jaccard is ill-defined and being set to 0.0 in samples with no true or predicted labels. Use `zero_division` parameter to control this behavior.\n",
      "  _warn_prf(average, modifier, msg_start, len(result))\n"
     ]
    }
   ],
   "source": [
    "print_metrics(y_test, y_pred)"
   ]
  },
  {
   "cell_type": "code",
   "execution_count": 19,
   "metadata": {},
   "outputs": [
    {
     "name": "stderr",
     "output_type": "stream",
     "text": [
      "/home/araju/anaconda3/envs/vg_classifier/lib/python3.11/site-packages/sklearn/linear_model/_logistic.py:460: ConvergenceWarning: lbfgs failed to converge (status=1):\n",
      "STOP: TOTAL NO. of ITERATIONS REACHED LIMIT.\n",
      "\n",
      "Increase the number of iterations (max_iter) or scale the data as shown in:\n",
      "    https://scikit-learn.org/stable/modules/preprocessing.html\n",
      "Please also refer to the documentation for alternative solver options:\n",
      "    https://scikit-learn.org/stable/modules/linear_model.html#logistic-regression\n",
      "  n_iter_i = _check_optimize_result(\n",
      "/home/araju/anaconda3/envs/vg_classifier/lib/python3.11/site-packages/sklearn/linear_model/_logistic.py:460: ConvergenceWarning: lbfgs failed to converge (status=1):\n",
      "STOP: TOTAL NO. of ITERATIONS REACHED LIMIT.\n",
      "\n",
      "Increase the number of iterations (max_iter) or scale the data as shown in:\n",
      "    https://scikit-learn.org/stable/modules/preprocessing.html\n",
      "Please also refer to the documentation for alternative solver options:\n",
      "    https://scikit-learn.org/stable/modules/linear_model.html#logistic-regression\n",
      "  n_iter_i = _check_optimize_result(\n",
      "/home/araju/anaconda3/envs/vg_classifier/lib/python3.11/site-packages/sklearn/linear_model/_logistic.py:460: ConvergenceWarning: lbfgs failed to converge (status=1):\n",
      "STOP: TOTAL NO. of ITERATIONS REACHED LIMIT.\n",
      "\n",
      "Increase the number of iterations (max_iter) or scale the data as shown in:\n",
      "    https://scikit-learn.org/stable/modules/preprocessing.html\n",
      "Please also refer to the documentation for alternative solver options:\n",
      "    https://scikit-learn.org/stable/modules/linear_model.html#logistic-regression\n",
      "  n_iter_i = _check_optimize_result(\n",
      "/home/araju/anaconda3/envs/vg_classifier/lib/python3.11/site-packages/sklearn/linear_model/_logistic.py:460: ConvergenceWarning: lbfgs failed to converge (status=1):\n",
      "STOP: TOTAL NO. of ITERATIONS REACHED LIMIT.\n",
      "\n",
      "Increase the number of iterations (max_iter) or scale the data as shown in:\n",
      "    https://scikit-learn.org/stable/modules/preprocessing.html\n",
      "Please also refer to the documentation for alternative solver options:\n",
      "    https://scikit-learn.org/stable/modules/linear_model.html#logistic-regression\n",
      "  n_iter_i = _check_optimize_result(\n",
      "/home/araju/anaconda3/envs/vg_classifier/lib/python3.11/site-packages/sklearn/linear_model/_logistic.py:460: ConvergenceWarning: lbfgs failed to converge (status=1):\n",
      "STOP: TOTAL NO. of ITERATIONS REACHED LIMIT.\n",
      "\n",
      "Increase the number of iterations (max_iter) or scale the data as shown in:\n",
      "    https://scikit-learn.org/stable/modules/preprocessing.html\n",
      "Please also refer to the documentation for alternative solver options:\n",
      "    https://scikit-learn.org/stable/modules/linear_model.html#logistic-regression\n",
      "  n_iter_i = _check_optimize_result(\n"
     ]
    },
    {
     "name": "stdout",
     "output_type": "stream",
     "text": [
      "precision micro: 0.684\n",
      "recall micro: 0.21375\n",
      "f1 micro: 0.3257142857142857\n",
      "precision macro: 0.5233436313058364\n",
      "recall macro: 0.20346648485334617\n",
      "f1 macro = 0.27217022636355415\n",
      "hamming loss_value: 0.1342434584755404\n",
      "jaccard similary: 0.17832764505119453\n"
     ]
    },
    {
     "name": "stderr",
     "output_type": "stream",
     "text": [
      "/home/araju/anaconda3/envs/vg_classifier/lib/python3.11/site-packages/sklearn/linear_model/_logistic.py:460: ConvergenceWarning: lbfgs failed to converge (status=1):\n",
      "STOP: TOTAL NO. of ITERATIONS REACHED LIMIT.\n",
      "\n",
      "Increase the number of iterations (max_iter) or scale the data as shown in:\n",
      "    https://scikit-learn.org/stable/modules/preprocessing.html\n",
      "Please also refer to the documentation for alternative solver options:\n",
      "    https://scikit-learn.org/stable/modules/linear_model.html#logistic-regression\n",
      "  n_iter_i = _check_optimize_result(\n",
      "/home/araju/anaconda3/envs/vg_classifier/lib/python3.11/site-packages/sklearn/metrics/_classification.py:1469: UndefinedMetricWarning: Jaccard is ill-defined and being set to 0.0 in samples with no true or predicted labels. Use `zero_division` parameter to control this behavior.\n",
      "  _warn_prf(average, modifier, msg_start, len(result))\n"
     ]
    }
   ],
   "source": [
    "X_train, X_test, y_train, y_test = train_test_split(X, y, test_size=0.2, random_state=42)\n",
    "\n",
    "# Create the OneVsRestClassifier with Logistic Regression as the base classifier\n",
    "classifier = OneVsRestClassifier(LogisticRegression(max_iter=1000))\n",
    "\n",
    "# Train the model\n",
    "classifier.fit(X_train, y_train)\n",
    "\n",
    "# Predict on the test set\n",
    "y_pred = classifier.predict(X_test)\n",
    "print_metrics(y_test, y_pred)"
   ]
  },
  {
   "cell_type": "code",
   "execution_count": 20,
   "metadata": {},
   "outputs": [],
   "source": [
    "y_true_binary = np.array(y_test, dtype=int)\n",
    "y_pred_binary = np.array(y_pred, dtype=int)\n",
    "conf_matrix = multilabel_confusion_matrix(y_true_binary, y_pred_binary)"
   ]
  },
  {
   "cell_type": "code",
   "execution_count": 21,
   "metadata": {},
   "outputs": [
    {
     "name": "stdout",
     "output_type": "stream",
     "text": [
      "Confusion Matrix for Label 'SB':\n",
      "[[717  22]\n",
      " [100  40]]\n"
     ]
    },
    {
     "data": {
      "image/png": "[encoded data removed]",
      "text/plain": [
       "<Figure size 400x300 with 2 Axes>"
      ]
     },
     "metadata": {},
     "output_type": "display_data"
    },
    {
     "name": "stdout",
     "output_type": "stream",
     "text": [
      "Confusion Matrix for Label '1dAVb':\n",
      "[[761   8]\n",
      " [109   1]]\n"
     ]
    },
    {
     "data": {
      "image/png": "[encoded data removed]",
      "text/plain": [
       "<Figure size 400x300 with 2 Axes>"
      ]
     },
     "metadata": {},
     "output_type": "display_data"
    },
    {
     "name": "stdout",
     "output_type": "stream",
     "text": [
      "Confusion Matrix for Label 'LBBB':\n",
      "[[723  16]\n",
      " [ 66  74]]\n"
     ]
    },
    {
     "data": {
      "image/png": "[encoded data removed]",
      "text/plain": [
       "<Figure size 400x300 with 2 Axes>"
      ]
     },
     "metadata": {},
     "output_type": "display_data"
    },
    {
     "name": "stdout",
     "output_type": "stream",
     "text": [
      "Confusion Matrix for Label 'ST':\n",
      "[[715  21]\n",
      " [ 97  46]]\n"
     ]
    },
    {
     "data": {
      "image/png": "[encoded data removed]",
      "text/plain": [
       "<Figure size 400x300 with 2 Axes>"
      ]
     },
     "metadata": {},
     "output_type": "display_data"
    },
    {
     "name": "stdout",
     "output_type": "stream",
     "text": [
      "Confusion Matrix for Label 'AF':\n",
      "[[737   5]\n",
      " [134   3]]\n"
     ]
    },
    {
     "data": {
      "image/png": "[encoded data removed]",
      "text/plain": [
       "<Figure size 400x300 with 2 Axes>"
      ]
     },
     "metadata": {},
     "output_type": "display_data"
    },
    {
     "name": "stdout",
     "output_type": "stream",
     "text": [
      "Confusion Matrix for Label 'RBBB':\n",
      "[[742   7]\n",
      " [123   7]]\n"
     ]
    },
    {
     "data": {
      "image/png": "[encoded data removed]",
      "text/plain": [
       "<Figure size 400x300 with 2 Axes>"
      ]
     },
     "metadata": {},
     "output_type": "display_data"
    }
   ],
   "source": [
    "label_names = y.columns\n",
    "\n",
    "for i, label_conf_matrix in enumerate(conf_matrix):\n",
    "    label_name = label_names[i]\n",
    "    \n",
    "    print(f\"Confusion Matrix for Label '{label_name}':\")\n",
    "    print(label_conf_matrix)\n",
    "\n",
    "    # Convert to percentages\n",
    "    total_instances = label_conf_matrix.sum()\n",
    "    percentage_conf_matrix = (label_conf_matrix / total_instances) * 100\n",
    "\n",
    "    # Plot confusion matrix using seaborn heatmap\n",
    "    plt.figure(figsize=(4, 3))\n",
    "    sns.heatmap(percentage_conf_matrix, annot=True, fmt=\".2f\", cmap=\"Blues\", cbar=True)\n",
    "    plt.title(f\"Confusion Matrix for Label '{label_name}' (Percentage)\")\n",
    "    plt.xlabel(\"Predicted\")\n",
    "    plt.ylabel(\"True\")\n",
    "    plt.show()"
   ]
  },
  {
   "cell_type": "code",
   "execution_count": 22,
   "metadata": {},
   "outputs": [
    {
     "name": "stdout",
     "output_type": "stream",
     "text": [
      "f1: 0.3866305329719964\n",
      "f1: 0.38348623853211006\n",
      "f1: 0.41990950226244345\n",
      "f1: 0.43046944198405673\n",
      "f1: 0.39490445859872614\n",
      "f1: 0.403 +- 0.019\n"
     ]
    }
   ],
   "source": [
    "from skmultilearn.model_selection import IterativeStratification\n",
    "kf = IterativeStratification(n_splits=5)\n",
    "metrics_array = []\n",
    "for train_index, test_index in kf.split(X, y):\n",
    "    X_train, X_test = X.iloc[train_index], X.iloc[test_index]\n",
    "    y_train, y_test = y.iloc[train_index], y.iloc[test_index]\n",
    "\n",
    "    # Initialize and train your model (replace RandomForestClassifier with your model)\n",
    "    classifier = RandomForestClassifier()\n",
    "    classifier.fit(X_train, y_train)\n",
    "\n",
    "    # Make predictions\n",
    "    y_pred = classifier.predict(X_test)\n",
    "\n",
    "    # Evaluate the model (replace accuracy_score with your evaluation metric)\n",
    "    f1 = f1_score(y_test, y_pred, average='micro')\n",
    "    print(\"f1:\", f1)\n",
    "    metrics_array.append(f1)\n",
    "print(f\"f1: {np.mean(metrics_array):.3f} +- {np.std(metrics_array):.3f}\")\n"
   ]
  },
  {
   "cell_type": "markdown",
   "metadata": {},
   "source": [
    "# One class classification"
   ]
  },
  {
   "cell_type": "code",
   "execution_count": 32,
   "metadata": {},
   "outputs": [
    {
     "data": {
      "image/png": "[encoded data removed]",
      "text/plain": [
       "<Figure size 1000x600 with 1 Axes>"
      ]
     },
     "metadata": {},
     "output_type": "display_data"
    }
   ],
   "source": [
    "scaler = StandardScaler()\n",
    "X_standardized = scaler.fit_transform(X)\n",
    "\n",
    "# Apply PCA\n",
    "pca = PCA(n_components=2)\n",
    "X_pca = pca.fit_transform(X_standardized)\n",
    "\n",
    "# Create a DataFrame with PCA components and target variable\n",
    "pca_df = pd.DataFrame(data={'PCA1': X_pca[:, 0], 'PCA2': X_pca[:, 1], 'LBBB': y['LBBB']})\n",
    "\n",
    "# Plot the points\n",
    "plt.figure(figsize=(10, 6))\n",
    "\n",
    "# Plot points not belonging to LBBB class\n",
    "plt.scatter(pca_df.loc[pca_df['LBBB'] == False, 'PCA1'], pca_df.loc[pca_df['LBBB'] == False, 'PCA2'], label='Not LBBB', alpha=0.7)\n",
    "\n",
    "# Plot points belonging to LBBB class\n",
    "plt.scatter(pca_df.loc[pca_df['LBBB'] == True, 'PCA1'], pca_df.loc[pca_df['LBBB'] == True, 'PCA2'], label='LBBB', alpha=0.7)\n",
    "\n",
    "# Set labels and title\n",
    "plt.xlabel(f'Principal Component 1 ({pca.explained_variance_ratio_[0]*100:.2f}%)')\n",
    "plt.ylabel(f'Principal Component 2 ({pca.explained_variance_ratio_[1]*100:.2f}%)')\n",
    "plt.title('PCA Plot with LBBB Class Marked')\n",
    "\n",
    "# Show legend\n",
    "plt.legend()\n",
    "\n",
    "# Show the plot\n",
    "plt.show()"
   ]
  },
  {
   "cell_type": "markdown",
   "metadata": {},
   "source": [
    "## SVM"
   ]
  },
  {
   "cell_type": "code",
   "execution_count": 81,
   "metadata": {},
   "outputs": [
    {
     "name": "stdout",
     "output_type": "stream",
     "text": [
      "f1: 0.910\n",
      "              precision    recall  f1-score   support\n",
      "\n",
      "          -1       0.33      0.04      0.06       140\n",
      "           1       0.84      0.99      0.91       739\n",
      "\n",
      "    accuracy                           0.84       879\n",
      "   macro avg       0.59      0.51      0.49       879\n",
      "weighted avg       0.76      0.84      0.77       879\n",
      "\n"
     ]
    },
    {
     "data": {
      "image/png": "[encoded data removed]",
      "text/plain": [
       "<Figure size 640x480 with 2 Axes>"
      ]
     },
     "metadata": {},
     "output_type": "display_data"
    }
   ],
   "source": [
    "from sklearn.model_selection import train_test_split\n",
    "from sklearn.svm import OneClassSVM\n",
    "from sklearn.metrics import classification_report\n",
    "\n",
    "# selecionando a classe de interesse\n",
    "y_one_class = y['LBBB'].astype(int).copy()\n",
    "\n",
    "#Fazendo split\n",
    "X_train_one_class, X_test_one_class, y_train_one_class, y_test_one_class = train_test_split(X, y_one_class, test_size=0.2, random_state=42)\n",
    "#Criando Classificador\n",
    "one_class_classifier = OneClassSVM(gamma='scale', nu=0.01)\n",
    "# Selecionando só as amostras negativas\n",
    "X_train_one_class = X_train_one_class[y_train_one_class == 0] \n",
    "# Treinando o classificador\n",
    "one_class_classifier.fit(X_train_one_class)\n",
    "# Fazendo predição\n",
    "y_pred_one_class = one_class_classifier.predict(X_test_one_class)\n",
    "# -1 indica outliers, 1 indica inliers\n",
    "y_test_one_class[y_test_one_class == 1] = -1\n",
    "y_test_one_class[y_test_one_class == 0] = 1\n",
    "# Calculando métricas\n",
    "f1 = f1_score(y_pred_one_class, y_test_one_class)\n",
    "print(f\"f1: {f1:.3f}\")\n",
    "print(classification_report(y_test_one_class, y_pred_one_class))\n",
    "cm = confusion_matrix(y_test_one_class, y_pred_one_class)\n",
    "\n",
    "# Plot the confusion matrix\n",
    "disp = ConfusionMatrixDisplay(confusion_matrix=cm, display_labels=[-1, 1])\n",
    "disp.plot(cmap=plt.cm.Blues)\n",
    "plt.title('Confusion Matrix')\n",
    "plt.show()\n"
   ]
  },
  {
   "cell_type": "markdown",
   "metadata": {},
   "source": [
    "1 indica aquelas amostras que não pertencem à classe LBBB, e -1 indicam aqueles que pertencem"
   ]
  },
  {
   "cell_type": "code",
   "execution_count": 62,
   "metadata": {},
   "outputs": [
    {
     "name": "stdout",
     "output_type": "stream",
     "text": [
      "(3516, 57)\n",
      "(596, 57)\n",
      "f1: 0.280\n",
      "              precision    recall  f1-score   support\n",
      "\n",
      "          -1       0.93      0.05      0.10       739\n",
      "           1       0.16      0.98      0.28       140\n",
      "\n",
      "    accuracy                           0.20       879\n",
      "   macro avg       0.55      0.52      0.19       879\n",
      "weighted avg       0.81      0.20      0.13       879\n",
      "\n"
     ]
    },
    {
     "data": {
      "image/png": "[encoded data removed]",
      "text/plain": [
       "<Figure size 640x480 with 2 Axes>"
      ]
     },
     "metadata": {},
     "output_type": "display_data"
    }
   ],
   "source": [
    "#Fazendo split\n",
    "X_train_one_class, X_test_one_class, y_train_one_class, y_test_one_class = train_test_split(X, y_one_class, test_size=0.2, random_state=42)\n",
    "#Criando Classificador\n",
    "one_class_classifier = OneClassSVM(gamma='scale', nu=0.01)\n",
    "# Selecionando só as amostras positivas\n",
    "# X_train_one_class = X_train_one_class[y_train_one_class == 1] # essa linha parece não ter muito impacto\n",
    "# Treinando o classificador\n",
    "one_class_classifier.fit(X_train_one_class)\n",
    "# Fazendo predição\n",
    "y_pred_one_class = one_class_classifier.predict(X_test_one_class)\n",
    "# -1 indica outliers, 1 indica inliers\n",
    "y_test_one_class[y_test_one_class == 1] = 1\n",
    "y_test_one_class[y_test_one_class == 0] = -1\n",
    "# Calculando métricas\n",
    "f1 = f1_score(y_pred_one_class, y_test_one_class)\n",
    "print(f\"f1: {f1:.3f}\")\n",
    "print(classification_report(y_test_one_class, y_pred_one_class))\n",
    "cm = confusion_matrix(y_test_one_class, y_pred_one_class)\n",
    "\n",
    "# Plot the confusion matrix\n",
    "disp = ConfusionMatrixDisplay(confusion_matrix=cm, display_labels=[-1, 1])\n",
    "disp.plot(cmap=plt.cm.Blues)\n",
    "plt.title('Confusion Matrix')\n",
    "plt.show()"
   ]
  },
  {
   "cell_type": "markdown",
   "metadata": {},
   "source": [
    "1 indica amostras que pertencem à classe LBBB e -1 indica aquela que não pertencem"
   ]
  },
  {
   "cell_type": "markdown",
   "metadata": {},
   "source": [
    "## Isolation Forest"
   ]
  },
  {
   "cell_type": "code",
   "execution_count": 66,
   "metadata": {},
   "outputs": [
    {
     "name": "stdout",
     "output_type": "stream",
     "text": [
      "f1: 0.912\n",
      "              precision    recall  f1-score   support\n",
      "\n",
      "          -1       0.45      0.04      0.07       140\n",
      "           1       0.84      0.99      0.91       739\n",
      "\n",
      "    accuracy                           0.84       879\n",
      "   macro avg       0.65      0.51      0.49       879\n",
      "weighted avg       0.78      0.84      0.78       879\n",
      "\n"
     ]
    },
    {
     "data": {
      "image/png": "[encoded data removed]",
      "text/plain": [
       "<Figure size 640x480 with 2 Axes>"
      ]
     },
     "metadata": {},
     "output_type": "display_data"
    }
   ],
   "source": [
    "from sklearn.model_selection import train_test_split\n",
    "from sklearn.ensemble import IsolationForest\n",
    "from sklearn.metrics import classification_report\n",
    "\n",
    "# selecionando a classe de interesse\n",
    "y_one_class = y['LBBB'].astype(int).copy()\n",
    "\n",
    "#Fazendo split\n",
    "X_train_one_class, X_test_one_class, y_train_one_class, y_test_one_class = train_test_split(X, y_one_class, test_size=0.2, random_state=42)\n",
    "#Criando Classificador\n",
    "one_class_classifier = IsolationForest(contamination=0.01)\n",
    "# Selecionando só as amostras negativas (não LBBB)\n",
    "X_train_one_class = X_train_one_class[y_train_one_class == 0] \n",
    "# Treinando o classificador\n",
    "one_class_classifier.fit(X_train_one_class)\n",
    "# Fazendo predição\n",
    "y_pred_one_class = one_class_classifier.predict(X_test_one_class)\n",
    "# -1 indica outliers, 1 indica inliers\n",
    "y_test_one_class[y_test_one_class == 1] = -1\n",
    "y_test_one_class[y_test_one_class == 0] = 1\n",
    "# Calculando métricas\n",
    "f1 = f1_score(y_pred_one_class, y_test_one_class)\n",
    "print(f\"f1: {f1:.3f}\")\n",
    "print(classification_report(y_test_one_class, y_pred_one_class))\n",
    "cm = confusion_matrix(y_test_one_class, y_pred_one_class)\n",
    "\n",
    "# Plot the confusion matrix\n",
    "disp = ConfusionMatrixDisplay(confusion_matrix=cm, display_labels=[-1, 1])\n",
    "disp.plot(cmap=plt.cm.Blues)\n",
    "plt.title('Confusion Matrix')\n",
    "plt.show()\n"
   ]
  },
  {
   "cell_type": "markdown",
   "metadata": {},
   "source": [
    "1 indica aquelas amostras que não pertencem à classe LBBB, e -1 indicam aqueles que pertencem"
   ]
  },
  {
   "cell_type": "code",
   "execution_count": 73,
   "metadata": {},
   "outputs": [
    {
     "name": "stdout",
     "output_type": "stream",
     "text": [
      "f1: 0.264\n",
      "              precision    recall  f1-score   support\n",
      "\n",
      "          -1       0.46      0.01      0.02       739\n",
      "           1       0.15      0.95      0.26       140\n",
      "\n",
      "    accuracy                           0.16       879\n",
      "   macro avg       0.31      0.48      0.14       879\n",
      "weighted avg       0.41      0.16      0.06       879\n",
      "\n"
     ]
    },
    {
     "data": {
      "image/png": "[encoded data removed]",
      "text/plain": [
       "<Figure size 640x480 with 2 Axes>"
      ]
     },
     "metadata": {},
     "output_type": "display_data"
    }
   ],
   "source": [
    "#Fazendo split\n",
    "X_train_one_class, X_test_one_class, y_train_one_class, y_test_one_class = train_test_split(X, y_one_class, test_size=0.2, random_state=42)\n",
    "#Criando Classificador\n",
    "one_class_classifier = IsolationForest(contamination=0.01)\n",
    "# Selecionando só as amostras positivas (LBBB)\n",
    "# X_train_one_class = X_train_one_class[y_train_one_class == 1] # essa linha parece não ter muito impacto\n",
    "# Treinando o classificador\n",
    "one_class_classifier.fit(X_train_one_class)\n",
    "# Fazendo predição\n",
    "y_pred_one_class = one_class_classifier.predict(X_test_one_class)\n",
    "# -1 indica outliers, 1 indica inliers\n",
    "y_test_one_class[y_test_one_class == 1] = 1\n",
    "y_test_one_class[y_test_one_class == 0] = -1\n",
    "# Calculando métricas\n",
    "f1 = f1_score(y_pred_one_class, y_test_one_class)\n",
    "print(f\"f1: {f1:.3f}\")\n",
    "print(classification_report(y_test_one_class, y_pred_one_class))\n",
    "cm = confusion_matrix(y_test_one_class, y_pred_one_class)\n",
    "\n",
    "# Plot the confusion matrix\n",
    "disp = ConfusionMatrixDisplay(confusion_matrix=cm, display_labels=[-1, 1])\n",
    "disp.plot(cmap=plt.cm.Blues)\n",
    "plt.title('Confusion Matrix')\n",
    "plt.show()"
   ]
  },
  {
   "cell_type": "markdown",
   "metadata": {},
   "source": [
    "1 indica amostras que pertencem à classe LBBB e -1 indica aquela que não pertencem"
   ]
  },
  {
   "cell_type": "markdown",
   "metadata": {},
   "source": [
    "## Minimum Covariance Determinant"
   ]
  },
  {
   "cell_type": "code",
   "execution_count": 70,
   "metadata": {},
   "outputs": [
    {
     "name": "stderr",
     "output_type": "stream",
     "text": [
      "/home/araju/anaconda3/envs/vg_classifier/lib/python3.11/site-packages/sklearn/covariance/_robust_covariance.py:747: UserWarning: The covariance matrix associated to your dataset is not full rank\n",
      "  warnings.warn(\n"
     ]
    },
    {
     "name": "stdout",
     "output_type": "stream",
     "text": [
      "f1: 0.907\n",
      "              precision    recall  f1-score   support\n",
      "\n",
      "          -1       0.09      0.01      0.01       140\n",
      "           1       0.84      0.99      0.91       739\n",
      "\n",
      "    accuracy                           0.83       879\n",
      "   macro avg       0.47      0.50      0.46       879\n",
      "weighted avg       0.72      0.83      0.76       879\n",
      "\n"
     ]
    },
    {
     "data": {
      "image/png": "[encoded data removed]",
      "text/plain": [
       "<Figure size 640x480 with 2 Axes>"
      ]
     },
     "metadata": {},
     "output_type": "display_data"
    }
   ],
   "source": [
    "from sklearn.model_selection import train_test_split\n",
    "from sklearn.covariance import EllipticEnvelope\n",
    "from sklearn.metrics import classification_report\n",
    "\n",
    "# selecionando a classe de interesse\n",
    "y_one_class = y['LBBB'].astype(int).copy()\n",
    "\n",
    "#Fazendo split\n",
    "X_train_one_class, X_test_one_class, y_train_one_class, y_test_one_class = train_test_split(X, y_one_class, test_size=0.2, random_state=42)\n",
    "#Criando Classificador\n",
    "one_class_classifier = EllipticEnvelope(contamination=0.01)\n",
    "# Selecionando só as amostras negativas (não LBBB)\n",
    "X_train_one_class = X_train_one_class[y_train_one_class == 0] \n",
    "# Treinando o classificador\n",
    "one_class_classifier.fit(X_train_one_class)\n",
    "# Fazendo predição\n",
    "y_pred_one_class = one_class_classifier.predict(X_test_one_class)\n",
    "# -1 indica outliers, 1 indica inliers\n",
    "y_test_one_class[y_test_one_class == 1] = -1\n",
    "y_test_one_class[y_test_one_class == 0] = 1\n",
    "# Calculando métricas\n",
    "f1 = f1_score(y_pred_one_class, y_test_one_class)\n",
    "print(f\"f1: {f1:.3f}\")\n",
    "print(classification_report(y_test_one_class, y_pred_one_class))\n",
    "cm = confusion_matrix(y_test_one_class, y_pred_one_class)\n",
    "\n",
    "# Plot the confusion matrix\n",
    "disp = ConfusionMatrixDisplay(confusion_matrix=cm, display_labels=[-1, 1])\n",
    "disp.plot(cmap=plt.cm.Blues)\n",
    "plt.title('Confusion Matrix')\n",
    "plt.show()\n"
   ]
  },
  {
   "cell_type": "markdown",
   "metadata": {},
   "source": [
    "1 indica aquelas amostras que não pertencem à classe LBBB, e -1 indicam aqueles que pertencem"
   ]
  },
  {
   "cell_type": "code",
   "execution_count": 74,
   "metadata": {},
   "outputs": [
    {
     "name": "stderr",
     "output_type": "stream",
     "text": [
      "/home/araju/anaconda3/envs/vg_classifier/lib/python3.11/site-packages/sklearn/covariance/_robust_covariance.py:747: UserWarning: The covariance matrix associated to your dataset is not full rank\n",
      "  warnings.warn(\n"
     ]
    },
    {
     "name": "stdout",
     "output_type": "stream",
     "text": [
      "f1: 0.277\n",
      "              precision    recall  f1-score   support\n",
      "\n",
      "          -1       1.00      0.01      0.02       739\n",
      "           1       0.16      1.00      0.28       140\n",
      "\n",
      "    accuracy                           0.17       879\n",
      "   macro avg       0.58      0.50      0.15       879\n",
      "weighted avg       0.87      0.17      0.06       879\n",
      "\n"
     ]
    },
    {
     "data": {
      "image/png": "[encoded data removed]",
      "text/plain": [
       "<Figure size 640x480 with 2 Axes>"
      ]
     },
     "metadata": {},
     "output_type": "display_data"
    }
   ],
   "source": [
    "#Fazendo split\n",
    "X_train_one_class, X_test_one_class, y_train_one_class, y_test_one_class = train_test_split(X, y_one_class, test_size=0.2, random_state=42)\n",
    "#Criando Classificador\n",
    "one_class_classifier = EllipticEnvelope(contamination=0.01)\n",
    "# Selecionando só as amostras positivas (LBBB)\n",
    "# X_train_one_class = X_train_one_class[y_train_one_class == 1] # essa linha parece não ter muito impacto\n",
    "# Treinando o classificador\n",
    "one_class_classifier.fit(X_train_one_class)\n",
    "# Fazendo predição\n",
    "y_pred_one_class = one_class_classifier.predict(X_test_one_class)\n",
    "# -1 indica outliers, 1 indica inliers\n",
    "y_test_one_class[y_test_one_class == 1] = 1\n",
    "y_test_one_class[y_test_one_class == 0] = -1\n",
    "# Calculando métricas\n",
    "f1 = f1_score(y_pred_one_class, y_test_one_class)\n",
    "print(f\"f1: {f1:.3f}\")\n",
    "print(classification_report(y_test_one_class, y_pred_one_class))\n",
    "cm = confusion_matrix(y_test_one_class, y_pred_one_class)\n",
    "\n",
    "# Plot the confusion matrix\n",
    "disp = ConfusionMatrixDisplay(confusion_matrix=cm, display_labels=[-1, 1])\n",
    "disp.plot(cmap=plt.cm.Blues)\n",
    "plt.title('Confusion Matrix')\n",
    "plt.show()"
   ]
  },
  {
   "cell_type": "markdown",
   "metadata": {},
   "source": [
    "1 indica amostras que pertencem à classe LBBB e -1 indica aquela que não pertencem"
   ]
  },
  {
   "cell_type": "markdown",
   "metadata": {},
   "source": [
    "## Local Outlier Factor"
   ]
  },
  {
   "cell_type": "code",
   "execution_count": 77,
   "metadata": {},
   "outputs": [
    {
     "name": "stdout",
     "output_type": "stream",
     "text": [
      "f1: 0.908\n",
      "              precision    recall  f1-score   support\n",
      "\n",
      "          -1       0.23      0.02      0.04       140\n",
      "           1       0.84      0.99      0.91       739\n",
      "\n",
      "    accuracy                           0.83       879\n",
      "   macro avg       0.54      0.50      0.47       879\n",
      "weighted avg       0.74      0.83      0.77       879\n",
      "\n"
     ]
    },
    {
     "data": {
      "image/png": "[encoded data removed]",
      "text/plain": [
       "<Figure size 640x480 with 2 Axes>"
      ]
     },
     "metadata": {},
     "output_type": "display_data"
    }
   ],
   "source": [
    "from sklearn.model_selection import train_test_split\n",
    "from sklearn.neighbors import LocalOutlierFactor\n",
    "from sklearn.metrics import classification_report\n",
    "\n",
    "def lot_predict(one_class_classifier, X_train_one_class, X_test_one_class):\n",
    "    # create one large dataset\n",
    "    composite = np.vstack((X_train_one_class, X_test_one_class))\n",
    "    # make prediction on composite dataset\n",
    "    y_pred_one_class = one_class_classifier.fit_predict(composite)\n",
    "    # return just the predictions on the test set\n",
    "    return y_pred_one_class[len(X_train_one_class):]\n",
    "\n",
    "# selecionando a classe de interesse\n",
    "y_one_class = y['LBBB'].astype(int).copy()\n",
    "\n",
    "#Fazendo split\n",
    "X_train_one_class, X_test_one_class, y_train_one_class, y_test_one_class = train_test_split(X, y_one_class, test_size=0.2, random_state=42)\n",
    "#Criando Classificador\n",
    "one_class_classifier = LocalOutlierFactor(contamination=0.01)\n",
    "# Selecionando só as amostras negativas (não LBBB)\n",
    "X_train_one_class = X_train_one_class[y_train_one_class == 0] \n",
    "# Treinando o classificador e fazendo predição\n",
    "y_pred_one_class = lot_predict(one_class_classifier, X_train_one_class, X_test_one_class)\n",
    "# -1 indica outliers, 1 indica inliers\n",
    "y_test_one_class[y_test_one_class == 1] = -1\n",
    "y_test_one_class[y_test_one_class == 0] = 1\n",
    "# Calculando métricas\n",
    "f1 = f1_score(y_pred_one_class, y_test_one_class)\n",
    "print(f\"f1: {f1:.3f}\")\n",
    "print(classification_report(y_test_one_class, y_pred_one_class))\n",
    "cm = confusion_matrix(y_test_one_class, y_pred_one_class)\n",
    "\n",
    "# Plot the confusion matrix\n",
    "disp = ConfusionMatrixDisplay(confusion_matrix=cm, display_labels=[-1, 1])\n",
    "disp.plot(cmap=plt.cm.Blues)\n",
    "plt.title('Confusion Matrix')\n",
    "plt.show()\n"
   ]
  },
  {
   "cell_type": "markdown",
   "metadata": {},
   "source": [
    "1 indica aquelas amostras que não pertencem à classe LBBB, e -1 indicam aqueles que pertencem"
   ]
  },
  {
   "cell_type": "code",
   "execution_count": 79,
   "metadata": {},
   "outputs": [
    {
     "name": "stdout",
     "output_type": "stream",
     "text": [
      "f1: 0.272\n",
      "              precision    recall  f1-score   support\n",
      "\n",
      "          -1       0.77      0.01      0.03       739\n",
      "           1       0.16      0.98      0.27       140\n",
      "\n",
      "    accuracy                           0.17       879\n",
      "   macro avg       0.46      0.50      0.15       879\n",
      "weighted avg       0.67      0.17      0.07       879\n",
      "\n"
     ]
    },
    {
     "data": {
      "image/png": "[encoded data removed]",
      "text/plain": [
       "<Figure size 640x480 with 2 Axes>"
      ]
     },
     "metadata": {},
     "output_type": "display_data"
    }
   ],
   "source": [
    "#Fazendo split\n",
    "X_train_one_class, X_test_one_class, y_train_one_class, y_test_one_class = train_test_split(X, y_one_class, test_size=0.2, random_state=42)\n",
    "#Criando Classificador\n",
    "one_class_classifier = LocalOutlierFactor(contamination=0.01)\n",
    "# Selecionando só as amostras negativas (não LBBB)\n",
    "X_train_one_class = X_train_one_class[y_train_one_class == 1] \n",
    "# Treinando o classificador e fazendo predição\n",
    "y_pred_one_class = lot_predict(one_class_classifier, X_train_one_class, X_test_one_class)\n",
    "# -1 indica outliers, 1 indica inliers\n",
    "y_test_one_class[y_test_one_class == 1] = 1\n",
    "y_test_one_class[y_test_one_class == 0] = -1\n",
    "# Calculando métricas\n",
    "f1 = f1_score(y_pred_one_class, y_test_one_class)\n",
    "print(f\"f1: {f1:.3f}\")\n",
    "print(classification_report(y_test_one_class, y_pred_one_class))\n",
    "cm = confusion_matrix(y_test_one_class, y_pred_one_class)\n",
    "\n",
    "# Plot the confusion matrix\n",
    "disp = ConfusionMatrixDisplay(confusion_matrix=cm, display_labels=[-1, 1])\n",
    "disp.plot(cmap=plt.cm.Blues)\n",
    "plt.title('Confusion Matrix')\n",
    "plt.show()"
   ]
  }
 ],
 "metadata": {
  "kernelspec": {
   "display_name": "vg_classifier",
   "language": "python",
   "name": "python3"
  },
  "language_info": {
   "codemirror_mode": {
    "name": "ipython",
    "version": 3
   },
   "file_extension": ".py",
   "mimetype": "text/x-python",
   "name": "python",
   "nbconvert_exporter": "python",
   "pygments_lexer": "ipython3",
   "version": "3.11.5"
  }
 },
 "nbformat": 4,
 "nbformat_minor": 2
}
